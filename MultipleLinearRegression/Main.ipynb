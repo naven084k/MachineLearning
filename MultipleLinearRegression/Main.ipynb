{
 "cells": [
  {
   "cell_type": "markdown",
   "metadata": {},
   "source": [
    "## Multiple Linear Regression\n",
    "\n",
    "We have a dataset to analyze success of start up based on various parameters...\n",
    "\n",
    "- Dummy variable for categorical variables\n",
    "for ex: State column values are NY and CA, we have to transpose and covert these values in to columns. Actually we don't need to consider both of these columns in your Regression model because NY column itself capturing all the variation\n",
    "\n",
    "your columns\n",
    "Dependent   Independent variables\n",
    "Profit      R&D, Admin, Marketing, State\n",
    "\n",
    "Formulat\n",
    "\n",
    "y = b0 + b1*x1 + b2*x2 + b3*x3    + b4*X4[this is for categorical column]"
   ]
  },
  {
   "cell_type": "markdown",
   "metadata": {},
   "source": []
  }
 ],
 "metadata": {
  "language_info": {
   "name": "python"
  }
 },
 "nbformat": 4,
 "nbformat_minor": 2
}
