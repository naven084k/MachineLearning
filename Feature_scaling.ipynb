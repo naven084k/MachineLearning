{
 "cells": [
  {
   "cell_type": "markdown",
   "metadata": {},
   "source": [
    "# Feature Scaling\n",
    "\n",
    "#### Example: Why Feature Scaling is Needed\n",
    "#### Scenario: Predicting House Prices\n",
    "\n",
    "Suppose you have a dataset with two features:\n",
    "\n",
    "House Size (in square feet) → Range: 500 to 5000\n",
    "Number of Bedrooms → Range: 1 to 5\n",
    "If you use a machine learning model like Linear Regression or k-NN, the large numerical range of \"House Size\" (500–5000) will dominate the smaller range of \"Number of Bedrooms\" (1–5). The model will assign more importance to \"House Size,\" even if \"Number of Bedrooms\" is equally important.\n",
    "\n",
    "Effect Without Feature Scaling\n",
    "The model might assume \"House Size\" is much more important just because it has larger values, leading to biased predictions.\n",
    "\n",
    "Applying Feature Scaling\n",
    "If we apply Min-Max Scaling:\n",
    "\n",
    "House Size (500 to 5000) → Scaled to 0 to 1\n",
    "Number of Bedrooms (1 to 5) → Scaled to 0 to 1\n",
    "Now, both features have equal weight, improving the model’s learning ability and prediction accuracy.\n",
    "\n",
    "## Common techniques\n",
    "#### 1. Normalization[Min-max scaling]\n",
    "      New_x = (X - X_min)/(X_max-X_min)\n",
    "#### 2. Standardization[z-score normalization]\n",
    "      New_x = (X - avg)/standard deviation\n"
   ]
  },
  {
   "cell_type": "markdown",
   "metadata": {},
   "source": []
  }
 ],
 "metadata": {
  "language_info": {
   "name": "python"
  }
 },
 "nbformat": 4,
 "nbformat_minor": 2
}
