{
 "cells": [
  {
   "cell_type": "markdown",
   "metadata": {},
   "source": [
    "## **Data Processing for a Machine Learning Model**\n",
    "\n",
    "Data processing is process of cleaning, transforming, and preparing raw data for a ML model. \n",
    "Proper data processing improves model accuracy, efficiency, and generalization. This includes various steps\n",
    "- Handling missing values\n",
    "- Remove Duplicates\n",
    "- Inconsistent formatting(Date formats or capitalization or number formatting)\n",
    "- Feature encoding(ML models only work on numerical data, we need to convert categories values into numerical values, for ex: column of female and male in to 0 and 1)\n",
    "- Feature scaling\n",
    "- Dimensionality reduction\n",
    "- Handling imbalanced data\n"
   ]
  },
  {
   "cell_type": "code",
   "execution_count": 1,
   "metadata": {},
   "outputs": [],
   "source": [
    "## Importing Libraries\n",
    "\n",
    "import numpy as np\n",
    "import matplotlib.pyplot as plt\n",
    "import pandas as pd"
   ]
  },
  {
   "cell_type": "code",
   "execution_count": null,
   "metadata": {},
   "outputs": [
    {
     "data": {
      "text/plain": [
       "numpy.ndarray"
      ]
     },
     "execution_count": 6,
     "metadata": {},
     "output_type": "execute_result"
    }
   ],
   "source": [
    "## Creating a data frame. this is a in memory table\n",
    "dataset = pd.read_csv('./Data.csv')\n",
    "X = dataset.iloc[:,:-1].values\n",
    "y = dataset.iloc[:,-1].values\n",
    "\n"
   ]
  },
  {
   "cell_type": "markdown",
   "metadata": {},
   "source": [
    "# Feature Scaling\n",
    "\n",
    "#### Example: Why Feature Scaling is Needed\n",
    "#### Scenario: Predicting House Prices\n",
    "\n",
    "Suppose you have a dataset with two features:\n",
    "\n",
    "House Size (in square feet) → Range: 500 to 5000\n",
    "Number of Bedrooms → Range: 1 to 5\n",
    "If you use a machine learning model like Linear Regression or k-NN, the large numerical range of \"House Size\" (500–5000) will dominate the smaller range of \"Number of Bedrooms\" (1–5). The model will assign more importance to \"House Size,\" even if \"Number of Bedrooms\" is equally important.\n",
    "\n",
    "Effect Without Feature Scaling\n",
    "The model might assume \"House Size\" is much more important just because it has larger values, leading to biased predictions.\n",
    "\n",
    "Applying Feature Scaling\n",
    "If we apply Min-Max Scaling:\n",
    "\n",
    "House Size (500 to 5000) → Scaled to 0 to 1\n",
    "Number of Bedrooms (1 to 5) → Scaled to 0 to 1\n",
    "Now, both features have equal weight, improving the model’s learning ability and prediction accuracy.\n",
    "\n",
    "## Common techniques\n",
    "#### 1. Normalization[Min-max scaling]\n",
    "      New_x = (X - X_min)/(X_max-X_min)\n",
    "#### 2. Standardization[z-score normalization]\n",
    "      New_x = (X - avg)/standard deviation\n"
   ]
  },
  {
   "cell_type": "markdown",
   "metadata": {},
   "source": []
  }
 ],
 "metadata": {
  "kernelspec": {
   "display_name": "Python 3",
   "language": "python",
   "name": "python3"
  },
  "language_info": {
   "codemirror_mode": {
    "name": "ipython",
    "version": 3
   },
   "file_extension": ".py",
   "mimetype": "text/x-python",
   "name": "python",
   "nbconvert_exporter": "python",
   "pygments_lexer": "ipython3",
   "version": "3.12.1"
  }
 },
 "nbformat": 4,
 "nbformat_minor": 2
}
